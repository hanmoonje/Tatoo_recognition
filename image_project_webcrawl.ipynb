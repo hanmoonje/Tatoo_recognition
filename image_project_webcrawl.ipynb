{
  "cells": [
    {
      "cell_type": "markdown",
      "metadata": {
        "id": "HnCOcCI6BfQ1"
      },
      "source": [
        "# Web crawling"
      ]
    },
    {
      "cell_type": "code",
      "execution_count": null,
      "metadata": {
        "id": "iO5P23rkBfQ2"
      },
      "outputs": [],
      "source": [
        "import requests\n",
        "from bs4 import BeautifulSoup\n",
        "import json"
      ]
    },
    {
      "cell_type": "code",
      "execution_count": null,
      "metadata": {
        "id": "mvmVHgo6BfQ2"
      },
      "outputs": [],
      "source": [
        "count=0\n",
        "for i in range(50):\n",
        "    url =f'https://www.google.com/search?q=polynesian+tattoo+design&bih=795&biw=1277&gbv=1&tbm=isch&sxsrf=ALiCzsYM2OIJ4luE4FHZx1IlPms37-UJUg:1660278931237&ei=k9j1YpCNDsLS-Qa9l4-wAw&start={i*10}&sa=N'\n",
        "    resp = requests.get(url)\n",
        "    html = resp.content\n",
        "    soup = BeautifulSoup(html,'lxml')\n",
        "    tags = soup.select('td a img')\n",
        "    for img in tags:\n",
        "        with open('img_polynesian2/poly_'+'0'*(4-len(str(count)))+str(count)+'.jpg','wb') as f:\n",
        "            f.write(requests.get(img['src']).content)\n",
        "        count+=1"
      ]
    },
    {
      "cell_type": "markdown",
      "metadata": {
        "id": "ek4Zd01-BfQ2"
      },
      "source": [
        "# Tattoo do"
      ]
    },
    {
      "cell_type": "code",
      "execution_count": null,
      "metadata": {
        "id": "wF-omSPMBfQ2"
      },
      "outputs": [],
      "source": [
        "style=tribal\n",
        "style=japanese\n",
        "style=traditional\n",
        "style=blackwork\n",
        "style=new_school"
      ]
    },
    {
      "cell_type": "code",
      "execution_count": null,
      "metadata": {
        "id": "lO1n2w_jBfQ3"
      },
      "outputs": [],
      "source": [
        "count=0\n",
        "styles=['blackwork','japanese','tribal','traditional','new_school']\n",
        "dic_styles={'blackwork':'blackwork','japanese':'ilezumi','tribal':'polynesian','traditional':'old_new_school','new_school':'old_new_school'}\n",
        "for style in styles:\n",
        "    for i in range(40):\n",
        "        url=f'https://backend-api.tattoodo.com/api/v2/search/posts?style={style}&rank=top&page={i}&limit=24'\n",
        "        resp = requests.get(url)\n",
        "        html = resp.text\n",
        "        jsn=json.loads(html)\n",
        "        img_lst=jsn['data']\n",
        "        \n",
        "        for i in img_lst:\n",
        "            with open('tattoodo/img_'+'0'*(4-len(str(count)))+str(count)+'.jpg','wb') as f:\n",
        "                f.write(requests.get(i['image']['url']).content)\n",
        "            count+=1"
      ]
    },
    {
      "cell_type": "markdown",
      "source": [
        "# Blackwork tatoo crawling"
      ],
      "metadata": {
        "id": "aI93J6YuCKy1"
      }
    },
    {
      "cell_type": "code",
      "source": [
        "import pandas \n",
        "from tqdm.notebook import tqdm"
      ],
      "metadata": {
        "id": "7k5A8vMyCKSX"
      },
      "execution_count": null,
      "outputs": []
    },
    {
      "cell_type": "code",
      "source": [
        "for i in tqdm(range(20), desc='페이지'):\n",
        "    # i = 0, 1, 2, 3\n",
        "    # start = 0, 20, 40, 60\n",
        "    start = 20*i\n",
        "    url = 'https://www.google.com/search?q=%ED%8F%B4%EB%A6%AC%EB%84%A4%EC%8B%9C%EC%95%88+%EC%82%AC%EC%9E%90+%EB%8F%84%EC%95%88&biw=1396&bih=665&gbv=1&tbm=isch&sxsrf=ALiCzsYfEiYWfO33BHhDgUW1a3wkV_6S9Q:1660201454860&ei=7qn0Ys2CNIj4-Qa_4Ja4Bg&start={}&sa=N'.format(start)\n",
        "    resp = requests.get(url)\n",
        "\n",
        "    soup = BeautifulSoup(resp.content, 'lxml')\n",
        "    img_tags = soup.select('img.yWs4tf')\n",
        "    len(img_tags)\n",
        "\n",
        "    for idx, img_tag in tqdm(enumerate(img_tags), desc='이미지/페이지'):\n",
        "        img_src = img_tag['src']\n",
        "        resp_img = requests.get(img_src)\n",
        "\n",
        "        img = resp_img.content\n",
        "\n",
        "        with open('이름_{:03}.jpg'.format(start+idx+1), 'wb') as f:\n",
        "            f.write(img)"
      ],
      "metadata": {
        "id": "o5kVmcxtCXEg"
      },
      "execution_count": null,
      "outputs": []
    }
  ],
  "metadata": {
    "kernelspec": {
      "display_name": "Python 3.9.0 64-bit",
      "language": "python",
      "name": "python3"
    },
    "language_info": {
      "codemirror_mode": {
        "name": "ipython",
        "version": 3
      },
      "file_extension": ".py",
      "mimetype": "text/x-python",
      "name": "python",
      "nbconvert_exporter": "python",
      "pygments_lexer": "ipython3",
      "version": "3.9.0"
    },
    "orig_nbformat": 4,
    "vscode": {
      "interpreter": {
        "hash": "aee8b7b246df8f9039afb4144a1f6fd8d2ca17a180786b69acc140d282b71a49"
      }
    },
    "colab": {
      "provenance": []
    }
  },
  "nbformat": 4,
  "nbformat_minor": 0
}